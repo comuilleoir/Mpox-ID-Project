{
  "nbformat": 4,
  "nbformat_minor": 0,
  "metadata": {
    "colab": {
      "provenance": []
    },
    "kernelspec": {
      "name": "python3",
      "display_name": "Python 3"
    },
    "language_info": {
      "name": "python"
    },
    "accelerator": "GPU",
    "gpuClass": "standard"
  },
  "cells": [
    {
      "cell_type": "code",
      "source": [
        "from google.colab import drive\n",
        "drive.mount('/content/drive')"
      ],
      "metadata": {
        "colab": {
          "base_uri": "https://localhost:8080/"
        },
        "id": "VEuox2bQ4NX6",
        "outputId": "ab8ca902-92a1-4959-e2d8-73017222483b"
      },
      "execution_count": 1,
      "outputs": [
        {
          "output_type": "stream",
          "name": "stdout",
          "text": [
            "Mounted at /content/drive\n"
          ]
        }
      ]
    },
    {
      "cell_type": "code",
      "source": [
        "!unzip -q \"/content/drive/MyDrive/Colab Notebooks/Monkeypox Data/Custom Dataset.zip\""
      ],
      "metadata": {
        "id": "VPvvH5eQ7kan"
      },
      "execution_count": 2,
      "outputs": []
    },
    {
      "cell_type": "code",
      "execution_count": 3,
      "metadata": {
        "id": "Sd-AU_ILW2zZ"
      },
      "outputs": [],
      "source": [
        "from tensorflow.keras.applications.mobilenet import MobileNet\n",
        "from tensorflow.keras.layers import Dense, Dropout, GlobalAveragePooling2D\n",
        "from tensorflow.keras.models import Sequential\n",
        "from tensorflow.keras.optimizers import Adam\n",
        "from tensorflow.keras.preprocessing.image import ImageDataGenerator\n",
        "from tensorflow.keras.callbacks import EarlyStopping\n",
        "from tensorflow.keras.utils import plot_model\n",
        "import xgboost as xgb\n",
        "import numpy as np"
      ]
    },
    {
      "cell_type": "code",
      "source": [
        "BATCH_SIZE = 32\n",
        "IMG_SIZE = (224, 224)"
      ],
      "metadata": {
        "id": "hU4RFanDbIeD"
      },
      "execution_count": 4,
      "outputs": []
    },
    {
      "cell_type": "code",
      "source": [
        "mobilenet = MobileNet(input_shape=(*IMG_SIZE, 3), include_top=False, weights='imagenet')"
      ],
      "metadata": {
        "colab": {
          "base_uri": "https://localhost:8080/"
        },
        "id": "wPATkoJTXDdS",
        "outputId": "bc02006e-20d8-4745-e44b-aae7adf95323"
      },
      "execution_count": 5,
      "outputs": [
        {
          "output_type": "stream",
          "name": "stdout",
          "text": [
            "Downloading data from https://storage.googleapis.com/tensorflow/keras-applications/mobilenet/mobilenet_1_0_224_tf_no_top.h5\n",
            "17225924/17225924 [==============================] - 2s 0us/step\n"
          ]
        }
      ]
    },
    {
      "cell_type": "code",
      "source": [
        "for layer in mobilenet.layers:\n",
        "    layer.trainable = False"
      ],
      "metadata": {
        "id": "tbZf9grIbPVq"
      },
      "execution_count": 6,
      "outputs": []
    },
    {
      "cell_type": "code",
      "source": [
        "model = Sequential()\n",
        "model.add(mobilenet)\n",
        "model.add(GlobalAveragePooling2D())\n",
        "model.add(Dropout(0.5))\n",
        "model.add(Dense(256, activation='relu'))\n",
        "model.add(Dropout(0.5))\n",
        "model.add(Dense(1, activation='sigmoid'))"
      ],
      "metadata": {
        "id": "HgDCPn0ObSXx"
      },
      "execution_count": 7,
      "outputs": []
    },
    {
      "cell_type": "code",
      "source": [
        "model.compile(optimizer=Adam(lr=0.0001), loss='binary_crossentropy', metrics=['accuracy'])"
      ],
      "metadata": {
        "colab": {
          "base_uri": "https://localhost:8080/"
        },
        "id": "-HkX_aZobVOe",
        "outputId": "9d935f25-76df-42db-8847-03dbf046d221"
      },
      "execution_count": 8,
      "outputs": [
        {
          "output_type": "stream",
          "name": "stderr",
          "text": [
            "/usr/local/lib/python3.8/dist-packages/keras/optimizers/optimizer_v2/adam.py:110: UserWarning: The `lr` argument is deprecated, use `learning_rate` instead.\n",
            "  super(Adam, self).__init__(name, **kwargs)\n"
          ]
        }
      ]
    },
    {
      "cell_type": "code",
      "source": [
        "train_dir = '/content/train'\n",
        "validation_dir = '/content/val'\n",
        "test_dir = '/content/test'\n",
        "\n",
        "train_datagen = ImageDataGenerator(rescale=1./255,\n",
        "                rotation_range=20,\n",
        "                horizontal_flip=True,\n",
        "                zoom_range=0.2)\n",
        "\n",
        "val_datagen = ImageDataGenerator(rescale=1./255)\n",
        "\n",
        "test_datagen = ImageDataGenerator(rescale=1./255)\n",
        "\n",
        "train_generator = train_datagen.flow_from_directory(\n",
        "                train_dir,\n",
        "                target_size=IMG_SIZE,\n",
        "                class_mode='binary',\n",
        "                batch_size=32)\n",
        "\n",
        "val_generator = val_datagen.flow_from_directory(\n",
        "                validation_dir,\n",
        "                target_size=IMG_SIZE,\n",
        "                class_mode='binary',\n",
        "                batch_size=32)\n",
        "\n",
        "test_generator = test_datagen.flow_from_directory(\n",
        "                test_dir,\n",
        "                target_size=IMG_SIZE,\n",
        "                class_mode='binary',\n",
        "                batch_size=32)"
      ],
      "metadata": {
        "colab": {
          "base_uri": "https://localhost:8080/"
        },
        "id": "1PnHuJk_XFrY",
        "outputId": "8ce5436d-152f-4615-aa40-d7524333661d"
      },
      "execution_count": 9,
      "outputs": [
        {
          "output_type": "stream",
          "name": "stdout",
          "text": [
            "Found 1772 images belonging to 2 classes.\n",
            "Found 94 images belonging to 2 classes.\n",
            "Found 288 images belonging to 2 classes.\n"
          ]
        }
      ]
    },
    {
      "cell_type": "code",
      "source": [
        "early_stopping = EarlyStopping(monitor='val_accuracy', patience=5, restore_best_weights=True)"
      ],
      "metadata": {
        "id": "ITxpcAXab1av"
      },
      "execution_count": 10,
      "outputs": []
    },
    {
      "cell_type": "code",
      "source": [
        "history = model.fit(train_generator,\n",
        "                    epochs=100,\n",
        "                    validation_data=val_generator,\n",
        "                    callbacks=[early_stopping])"
      ],
      "metadata": {
        "colab": {
          "base_uri": "https://localhost:8080/"
        },
        "id": "Ya883LFtb3RL",
        "outputId": "eecd33fb-4106-49d4-a866-a054dc1a5442"
      },
      "execution_count": 11,
      "outputs": [
        {
          "output_type": "stream",
          "name": "stdout",
          "text": [
            "Epoch 1/100\n",
            "56/56 [==============================] - 32s 396ms/step - loss: 0.8751 - accuracy: 0.5604 - val_loss: 0.4800 - val_accuracy: 0.7447\n",
            "Epoch 2/100\n",
            "56/56 [==============================] - 19s 347ms/step - loss: 0.6674 - accuracy: 0.6755 - val_loss: 0.3821 - val_accuracy: 0.8191\n",
            "Epoch 3/100\n",
            "56/56 [==============================] - 19s 347ms/step - loss: 0.5801 - accuracy: 0.7286 - val_loss: 0.3432 - val_accuracy: 0.8191\n",
            "Epoch 4/100\n",
            "56/56 [==============================] - 21s 375ms/step - loss: 0.5636 - accuracy: 0.7421 - val_loss: 0.3180 - val_accuracy: 0.8404\n",
            "Epoch 5/100\n",
            "56/56 [==============================] - 19s 344ms/step - loss: 0.4927 - accuracy: 0.7709 - val_loss: 0.3128 - val_accuracy: 0.8511\n",
            "Epoch 6/100\n",
            "56/56 [==============================] - 21s 372ms/step - loss: 0.4846 - accuracy: 0.7619 - val_loss: 0.3026 - val_accuracy: 0.8511\n",
            "Epoch 7/100\n",
            "56/56 [==============================] - 20s 348ms/step - loss: 0.4950 - accuracy: 0.7641 - val_loss: 0.2990 - val_accuracy: 0.8404\n",
            "Epoch 8/100\n",
            "56/56 [==============================] - 20s 348ms/step - loss: 0.4445 - accuracy: 0.7889 - val_loss: 0.2919 - val_accuracy: 0.8404\n",
            "Epoch 9/100\n",
            "56/56 [==============================] - 21s 376ms/step - loss: 0.4344 - accuracy: 0.8008 - val_loss: 0.2868 - val_accuracy: 0.8617\n",
            "Epoch 10/100\n",
            "56/56 [==============================] - 20s 350ms/step - loss: 0.4309 - accuracy: 0.7980 - val_loss: 0.2805 - val_accuracy: 0.8617\n",
            "Epoch 11/100\n",
            "56/56 [==============================] - 21s 371ms/step - loss: 0.4262 - accuracy: 0.8053 - val_loss: 0.2823 - val_accuracy: 0.8511\n",
            "Epoch 12/100\n",
            "56/56 [==============================] - 20s 349ms/step - loss: 0.4249 - accuracy: 0.8036 - val_loss: 0.2843 - val_accuracy: 0.8511\n",
            "Epoch 13/100\n",
            "56/56 [==============================] - 20s 351ms/step - loss: 0.4003 - accuracy: 0.8087 - val_loss: 0.2721 - val_accuracy: 0.8404\n",
            "Epoch 14/100\n",
            "56/56 [==============================] - 21s 373ms/step - loss: 0.3991 - accuracy: 0.8115 - val_loss: 0.2683 - val_accuracy: 0.8511\n"
          ]
        }
      ]
    },
    {
      "cell_type": "code",
      "source": [
        "train_features = mobilenet.predict(train_generator)\n",
        "val_features = mobilenet.predict(val_generator)\n",
        "test_features = mobilenet.predict(test_generator)"
      ],
      "metadata": {
        "colab": {
          "base_uri": "https://localhost:8080/"
        },
        "id": "iMKLb7Azb8XV",
        "outputId": "d3ada4c1-206a-46bd-b4af-d377b51efe4d"
      },
      "execution_count": 12,
      "outputs": [
        {
          "output_type": "stream",
          "name": "stdout",
          "text": [
            "56/56 [==============================] - 19s 332ms/step\n",
            "3/3 [==============================] - 0s 73ms/step\n",
            "9/9 [==============================] - 1s 72ms/step\n"
          ]
        }
      ]
    },
    {
      "cell_type": "code",
      "source": [
        "print(train_features.shape)\n",
        "print(val_features.shape)\n",
        "print(test_features.shape)"
      ],
      "metadata": {
        "colab": {
          "base_uri": "https://localhost:8080/"
        },
        "id": "YPKc_6MI0UGn",
        "outputId": "8faa6f24-bb97-454c-cf05-1abc710a65e0"
      },
      "execution_count": 13,
      "outputs": [
        {
          "output_type": "stream",
          "name": "stdout",
          "text": [
            "(1772, 7, 7, 1024)\n",
            "(94, 7, 7, 1024)\n",
            "(288, 7, 7, 1024)\n"
          ]
        }
      ]
    },
    {
      "cell_type": "code",
      "source": [
        "x_train = train_features.reshape(train_features.shape[0], -1)\n",
        "x_train.shape"
      ],
      "metadata": {
        "colab": {
          "base_uri": "https://localhost:8080/"
        },
        "id": "kyyfkhB-0vTF",
        "outputId": "83f71c35-e41c-4dfb-9187-439656adc285"
      },
      "execution_count": 14,
      "outputs": [
        {
          "output_type": "execute_result",
          "data": {
            "text/plain": [
              "(1772, 50176)"
            ]
          },
          "metadata": {},
          "execution_count": 14
        }
      ]
    },
    {
      "cell_type": "code",
      "source": [
        "x_val = val_features.reshape(val_features.shape[0], -1)\n",
        "x_val.shape"
      ],
      "metadata": {
        "colab": {
          "base_uri": "https://localhost:8080/"
        },
        "id": "Y4zz3iJv2S2Y",
        "outputId": "1ce96ca2-8cc1-4166-899c-74676f19c0dc"
      },
      "execution_count": 15,
      "outputs": [
        {
          "output_type": "execute_result",
          "data": {
            "text/plain": [
              "(94, 50176)"
            ]
          },
          "metadata": {},
          "execution_count": 15
        }
      ]
    },
    {
      "cell_type": "code",
      "source": [
        "x_test = test_features.reshape(test_features.shape[0], -1)\n",
        "x_test.shape"
      ],
      "metadata": {
        "colab": {
          "base_uri": "https://localhost:8080/"
        },
        "id": "B5MC1eZh2y28",
        "outputId": "9f7e8c98-0b6c-4bb9-94c2-972242439c57"
      },
      "execution_count": 16,
      "outputs": [
        {
          "output_type": "execute_result",
          "data": {
            "text/plain": [
              "(288, 50176)"
            ]
          },
          "metadata": {},
          "execution_count": 16
        }
      ]
    },
    {
      "cell_type": "code",
      "source": [
        "xgboost = xgb.XGBClassifier(objective='binary:logistic', random_state=42)"
      ],
      "metadata": {
        "id": "Dwp0XQngb-yO"
      },
      "execution_count": 17,
      "outputs": []
    },
    {
      "cell_type": "code",
      "source": [
        "xgboost.fit(x_train, train_generator.classes)"
      ],
      "metadata": {
        "colab": {
          "base_uri": "https://localhost:8080/"
        },
        "id": "OdfBR_HpcCmL",
        "outputId": "5d430d4f-2d4d-4ee1-e1b8-e0f8ebf156e0"
      },
      "execution_count": 18,
      "outputs": [
        {
          "output_type": "execute_result",
          "data": {
            "text/plain": [
              "XGBClassifier(random_state=42)"
            ]
          },
          "metadata": {},
          "execution_count": 18
        }
      ]
    },
    {
      "cell_type": "code",
      "source": [
        "val_accuracy = xgboost.score(x_val, val_generator.classes)\n",
        "print(f'Validation accuracy: {val_accuracy * 100}%')"
      ],
      "metadata": {
        "colab": {
          "base_uri": "https://localhost:8080/"
        },
        "id": "psrH8DItcD2h",
        "outputId": "e7253214-c517-438f-8dad-7e3f13f6e8eb"
      },
      "execution_count": 19,
      "outputs": [
        {
          "output_type": "stream",
          "name": "stdout",
          "text": [
            "Validation accuracy: 56.38297872340425%\n"
          ]
        }
      ]
    },
    {
      "cell_type": "code",
      "source": [
        "predictions = xgboost.predict(x_test)\n",
        "accuracy = sum(predictions == test_generator.classes) / len(predictions)\n",
        "print(f'Accuracy: {accuracy * 100}%')"
      ],
      "metadata": {
        "colab": {
          "base_uri": "https://localhost:8080/"
        },
        "id": "vxh3ZgUIcGou",
        "outputId": "f56ec047-88fb-415e-85ef-315f93aa79bd"
      },
      "execution_count": 20,
      "outputs": [
        {
          "output_type": "stream",
          "name": "stdout",
          "text": [
            "Accuracy: 54.513888888888886%\n"
          ]
        }
      ]
    },
    {
      "cell_type": "code",
      "source": [
        "print(f'True labels: {test_generator.classes}')\n",
        "print(f'Predictions: {predictions}')"
      ],
      "metadata": {
        "colab": {
          "base_uri": "https://localhost:8080/"
        },
        "id": "LlcEnJ6Q3kQ3",
        "outputId": "d3f92063-4032-4743-a910-e50474beb8a6"
      },
      "execution_count": 21,
      "outputs": [
        {
          "output_type": "stream",
          "name": "stdout",
          "text": [
            "True labels: [0 0 0 0 0 0 0 0 0 0 0 0 0 0 0 0 0 0 0 0 0 0 0 0 0 0 0 0 0 0 0 0 0 0 0 0 0\n",
            " 0 0 0 0 0 0 0 0 0 0 0 0 0 0 0 0 0 0 0 0 0 0 0 0 0 0 0 0 0 0 0 0 0 0 0 0 0\n",
            " 0 0 0 0 0 0 0 0 0 0 0 0 0 0 0 0 0 0 0 0 0 0 0 0 0 0 0 0 0 0 0 0 1 1 1 1 1\n",
            " 1 1 1 1 1 1 1 1 1 1 1 1 1 1 1 1 1 1 1 1 1 1 1 1 1 1 1 1 1 1 1 1 1 1 1 1 1\n",
            " 1 1 1 1 1 1 1 1 1 1 1 1 1 1 1 1 1 1 1 1 1 1 1 1 1 1 1 1 1 1 1 1 1 1 1 1 1\n",
            " 1 1 1 1 1 1 1 1 1 1 1 1 1 1 1 1 1 1 1 1 1 1 1 1 1 1 1 1 1 1 1 1 1 1 1 1 1\n",
            " 1 1 1 1 1 1 1 1 1 1 1 1 1 1 1 1 1 1 1 1 1 1 1 1 1 1 1 1 1 1 1 1 1 1 1 1 1\n",
            " 1 1 1 1 1 1 1 1 1 1 1 1 1 1 1 1 1 1 1 1 1 1 1 1 1 1 1 1 1]\n",
            "Predictions: [1 1 1 0 1 0 1 1 1 1 0 1 1 0 1 1 0 0 1 1 1 1 1 1 0 1 1 1 1 1 0 1 1 1 1 1 1\n",
            " 1 0 1 1 0 1 0 0 1 0 1 1 1 1 0 0 0 1 1 1 0 1 0 0 1 1 1 1 1 1 1 1 0 0 1 1 1\n",
            " 1 0 1 0 1 1 0 1 0 1 0 1 1 0 1 1 1 1 1 1 1 1 1 1 1 0 0 0 1 0 0 0 1 1 1 1 0\n",
            " 1 1 1 1 1 0 1 0 1 1 1 0 1 1 1 0 1 1 1 1 1 1 0 0 0 1 0 1 1 1 1 1 1 1 1 1 1\n",
            " 1 0 1 1 0 0 0 0 1 1 0 0 0 0 1 1 1 0 1 1 1 0 1 0 0 1 1 1 0 1 1 0 0 0 0 0 1\n",
            " 1 0 1 0 1 0 1 1 1 0 1 1 1 0 1 1 0 0 1 1 1 1 0 1 0 1 1 1 0 1 1 0 1 0 1 1 1\n",
            " 1 0 1 1 1 0 1 1 1 0 1 1 1 1 1 1 0 1 1 1 0 1 1 1 0 1 0 0 0 0 0 1 1 1 0 1 0\n",
            " 0 0 1 1 1 0 1 1 1 1 1 1 1 1 1 1 1 1 1 1 1 1 0 1 1 1 0 1 1]\n"
          ]
        }
      ]
    }
  ]
}