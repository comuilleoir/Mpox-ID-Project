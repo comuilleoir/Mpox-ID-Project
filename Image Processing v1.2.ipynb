{
 "cells": [
  {
   "cell_type": "code",
   "execution_count": 26,
   "metadata": {},
   "outputs": [
    {
     "name": "stdout",
     "output_type": "stream",
     "text": [
      "DifPy preparing files: [956/956] [100%]\n",
      "DifPy comparing images: [954/954] [100%]\n",
      "Found 0 images with one or more duplicate/similar images in 106.9404 seconds.\n"
     ]
    }
   ],
   "source": [
    "from difPy import dif\n",
    "search = dif(\"Original Images\")"
   ]
  },
  {
   "cell_type": "code",
   "execution_count": 27,
   "metadata": {},
   "outputs": [],
   "source": [
    "import os\n",
    "import shutil\n",
    "from Augmentor import Pipeline\n",
    "import splitfolders\n",
    "\n",
    "# Set base directory\n",
    "base_dir = './Original Images'\n",
    "\n",
    "# Set source directories\n",
    "monkeypox_dir = os.path.join(base_dir, 'Monkeypox')\n",
    "others_dir = os.path.join(base_dir, 'Others')\n",
    "\n",
    "# Set directories for each dataset\n",
    "train_dir = os.path.join(base_dir, 'train')\n",
    "test_dir = os.path.join(base_dir, 'test')\n",
    "val_dir = os.path.join(base_dir, 'val')\n",
    "\n",
    "# Set directories for each class in each dataset\n",
    "train_monkeypox_dir = os.path.join(train_dir, 'Monkeypox')\n",
    "train_others_dir = os.path.join(train_dir, 'Others')\n",
    "test_monkeypox_dir = os.path.join(test_dir, 'Monkeypox')\n",
    "test_others_dir = os.path.join(test_dir, 'Others')\n",
    "val_monkeypox_dir = os.path.join(val_dir, 'Monkeypox')\n",
    "val_others_dir = os.path.join(val_dir, 'Others')"
   ]
  },
  {
   "cell_type": "code",
   "execution_count": 28,
   "metadata": {},
   "outputs": [
    {
     "name": "stderr",
     "output_type": "stream",
     "text": [
      "Copying files: 954 files [00:01, 739.39 files/s]\n"
     ]
    }
   ],
   "source": [
    "# Split photo data and randomly into training, testing, and validation sets (60%, 10%, 30%)\n",
    "splitfolders.ratio('Original Images', output=\"Original Images\", seed=42, ratio=(.6, 0.1,0.3)) "
   ]
  },
  {
   "cell_type": "code",
   "execution_count": 29,
   "metadata": {},
   "outputs": [],
   "source": [
    "# Rename files in a systematic way\n",
    "i = 1\n",
    "for fname in os.listdir(train_monkeypox_dir):\n",
    "    new_name = 'monkeypox_train_' + str(i) + '.jpg'\n",
    "    src = os.path.join(train_monkeypox_dir, fname)\n",
    "    dst = os.path.join(train_monkeypox_dir, new_name)\n",
    "    os.rename(src, dst)\n",
    "    i += 1\n",
    "\n",
    "i = 1\n",
    "for fname in os.listdir(train_others_dir):\n",
    "    new_name = 'others_train_' + str(i) + '.jpg'\n",
    "    src = os.path.join(train_others_dir, fname)\n",
    "    dst = os.path.join(train_others_dir, new_name)\n",
    "    os.rename(src, dst)\n",
    "    i += 1\n",
    "\n",
    "i = 1\n",
    "for fname in os.listdir(test_monkeypox_dir):\n",
    "    new_name = 'monkeypox_test_' + str(i) + '.jpg'\n",
    "    src = os.path.join(test_monkeypox_dir, fname)\n",
    "    dst = os.path.join(test_monkeypox_dir, new_name)\n",
    "    os.rename(src, dst)\n",
    "    i += 1\n",
    "\n",
    "i = 1\n",
    "for fname in os.listdir(test_others_dir):\n",
    "    new_name = 'others_test_' + str(i) + '.jpg'\n",
    "    src = os.path.join(test_others_dir, fname)\n",
    "    dst = os.path.join(test_others_dir, new_name)\n",
    "    os.rename(src, dst)\n",
    "    i += 1\n",
    "\n",
    "i = 1\n",
    "for fname in os.listdir(val_monkeypox_dir):\n",
    "    new_name = 'monkeypox_val_' + str(i) + '.jpg'\n",
    "    src = os.path.join(val_monkeypox_dir, fname)\n",
    "    dst = os.path.join(val_monkeypox_dir, new_name)\n",
    "    os.rename(src, dst)\n",
    "    i += 1\n",
    "\n",
    "i = 1\n",
    "for fname in os.listdir(val_others_dir):\n",
    "    new_name = 'others_val_' + str(i) + '.jpg'\n",
    "    src = os.path.join(val_others_dir, fname)\n",
    "    dst = os.path.join(val_others_dir, new_name)\n",
    "    os.rename(src, dst)\n",
    "    i += 1"
   ]
  },
  {
   "cell_type": "code",
   "execution_count": 30,
   "metadata": {},
   "outputs": [
    {
     "name": "stdout",
     "output_type": "stream",
     "text": [
      "Initialised with 209 image(s) found.\n",
      "Output directory set to ./Original Images\\train\\Monkeypox\\output."
     ]
    },
    {
     "name": "stderr",
     "output_type": "stream",
     "text": [
      "Processing <PIL.Image.Image image mode=RGB size=224x224 at 0x2B6BDCC1390>: 100%|██████████| 600/600 [00:03<00:00, 195.00 Samples/s]                \n"
     ]
    },
    {
     "name": "stdout",
     "output_type": "stream",
     "text": [
      "Initialised with 363 image(s) found.\n",
      "Output directory set to ./Original Images\\train\\Others\\output."
     ]
    },
    {
     "name": "stderr",
     "output_type": "stream",
     "text": [
      "Processing <PIL.Image.Image image mode=RGB size=224x224 at 0x2B6BDCEF700>: 100%|██████████| 600/600 [00:02<00:00, 215.59 Samples/s]                  \n"
     ]
    }
   ],
   "source": [
    "# Create augmentations on training dataset\n",
    "p = Pipeline(train_monkeypox_dir)\n",
    "p.rotate(probability=0.7, max_left_rotation=10, max_right_rotation=10)\n",
    "p.zoom(probability=0.5, min_factor=1.1, max_factor=1.5)\n",
    "p.skew_tilt(probability=0.5)\n",
    "p.skew_corner(probability=0.5)\n",
    "p.sample(600)\n",
    "\n",
    "p = Pipeline(train_others_dir)\n",
    "p.rotate(probability=0.7, max_left_rotation=10, max_right_rotation=10)\n",
    "p.zoom(probability=0.5, min_factor=1.1, max_factor=1.5)\n",
    "p.skew_tilt(probability=0.5)\n",
    "p.skew_corner(probability=0.5)\n",
    "p.sample(600)"
   ]
  },
  {
   "cell_type": "code",
   "execution_count": 31,
   "metadata": {},
   "outputs": [],
   "source": [
    "import re\n",
    "\n",
    "# Rename the augmented images in the output folder, keeping *monkeypox_* and *others_* in the name\n",
    "augmented_m_dir = \"./Original Images/train/Monkeypox/output\"\n",
    "augmented_m_files = os.listdir(augmented_m_dir)\n",
    "augmented_o_dir = \"./Original Images/train/Others/output\"\n",
    "augmented_o_files = os.listdir(augmented_o_dir)\n",
    "\n",
    "for i in range(len(augmented_m_files)):\n",
    "    filenum = re.findall(r'\\d+', str(augmented_m_files[i]))\n",
    "    os.rename(os.path.join(augmented_m_dir, augmented_m_files[i]), os.path.join(augmented_m_dir, \n",
    "        \"monkeypox_train_\" + filenum[0] + \"_\" + str(i) + \".jpg\"))\n",
    "    del filenum\n",
    "\n",
    "for i in range(len(augmented_o_files)):\n",
    "    filenum = re.findall(r'\\d+', augmented_o_files[i])\n",
    "    os.rename(os.path.join(augmented_o_dir, augmented_o_files[i]), os.path.join(augmented_o_dir, \n",
    "        \"others_train_\" + filenum[0] + \"_\" + str(i) + \".jpg\"))\n",
    "    del filenum\n"
   ]
  },
  {
   "cell_type": "code",
   "execution_count": 32,
   "metadata": {},
   "outputs": [],
   "source": [
    "augmented_m_files = os.listdir(augmented_m_dir)\n",
    "augmented_o_files = os.listdir(augmented_o_dir)\n",
    "\n",
    "# Move the augmented images to the training subfolders\n",
    "for i in range(len(augmented_m_files)):\n",
    "    shutil.move(os.path.join(augmented_m_dir, augmented_m_files[i]), os.path.join(train_monkeypox_dir, augmented_m_files[i]))\n",
    "\n",
    "for i in range(len(augmented_o_files)):\n",
    "    shutil.move(os.path.join(augmented_o_dir, augmented_o_files[i]), os.path.join(train_others_dir, augmented_o_files[i]))\n",
    "\n",
    "# Remove the output folders\n",
    "shutil.rmtree(augmented_m_dir)\n",
    "shutil.rmtree(augmented_o_dir)"
   ]
  },
  {
   "cell_type": "code",
   "execution_count": 33,
   "metadata": {},
   "outputs": [
    {
     "name": "stdout",
     "output_type": "stream",
     "text": [
      "Training Monkeypox images: 809\n",
      "Training Others images: 963\n",
      "Testing Monkeypox images: 106\n",
      "Testing Others images: 182\n",
      "Validation Monkeypox images: 34\n",
      "Validation Others images: 60\n"
     ]
    }
   ],
   "source": [
    "# Check if directories have correct number of files\n",
    "print('Training Monkeypox images:', len(os.listdir(train_monkeypox_dir)))\n",
    "print('Training Others images:', len(os.listdir(train_others_dir)))\n",
    "print('Testing Monkeypox images:', len(os.listdir(test_monkeypox_dir)))\n",
    "print('Testing Others images:', len(os.listdir(test_others_dir)))\n",
    "print('Validation Monkeypox images:', len(os.listdir(val_monkeypox_dir)))\n",
    "print('Validation Others images:', len(os.listdir(val_others_dir)))"
   ]
  }
 ],
 "metadata": {
  "kernelspec": {
   "display_name": "Python 3",
   "language": "python",
   "name": "python3"
  },
  "language_info": {
   "codemirror_mode": {
    "name": "ipython",
    "version": 3
   },
   "file_extension": ".py",
   "mimetype": "text/x-python",
   "name": "python",
   "nbconvert_exporter": "python",
   "pygments_lexer": "ipython3",
   "version": "3.10.6 (tags/v3.10.6:9c7b4bd, Aug  1 2022, 21:53:49) [MSC v.1932 64 bit (AMD64)]"
  },
  "orig_nbformat": 4,
  "vscode": {
   "interpreter": {
    "hash": "b9166679b7960eae5ec60905c6de7fbf69f74d8b9abd3b590631149d05e19d3c"
   }
  }
 },
 "nbformat": 4,
 "nbformat_minor": 2
}
